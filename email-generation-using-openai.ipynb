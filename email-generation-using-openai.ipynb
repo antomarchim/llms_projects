{
 "cells": [
  {
   "cell_type": "markdown",
   "id": "5bc30ce5-2470-438b-9d1d-aefd0c91b29e",
   "metadata": {},
   "source": [
    "# Email Generation using OpenAI"
   ]
  },
  {
   "cell_type": "markdown",
   "id": "82d633b9-76fb-449e-b18b-affd6daaf789",
   "metadata": {},
   "source": [
    "This code utilizes the OpenAI API to generate a formal email based on a given user prompt. It loads environment variables, validates the API key, and creates an instance of the OpenAI class. The code then defines system and user prompts, constructs a message list, and calls the OpenAI API to generate a response. The generated email is printed to the console.\n",
    "\n",
    "## Functionality:\n",
    "\n",
    "- Loads environment variables and validates the OpenAI API key\n",
    "- Creates an instance of the OpenAI class and defines system and user prompts\n",
    "- Generates a formal email based on the user prompt using the OpenAI API\n",
    "- Prints the generated email to the console\n",
    "\n",
    "## Requirements:\n",
    "\n",
    "- OpenAI API key\n",
    "- openai and dotenv libraries installed\n",
    "- .env file containing the OpenAI API key\n"
   ]
  },
  {
   "cell_type": "code",
   "execution_count": null,
   "id": "1f28d5d1-6ff2-4235-a06c-fa130935ae60",
   "metadata": {},
   "outputs": [],
   "source": [
    "# imports\n",
    "import os\n",
    "from dotenv import load_dotenv\n",
    "from openai import OpenAI"
   ]
  },
  {
   "cell_type": "code",
   "execution_count": null,
   "id": "f4159e30-583f-437f-a920-d1ed2a1398a1",
   "metadata": {},
   "outputs": [],
   "source": [
    "# Load environment variables in a file called .env\n",
    "load_dotenv(override=True)\n",
    "api_key = os.getenv('OPENAI_API_KEY')\n",
    "\n",
    "# Check the key\n",
    "if not api_key:\n",
    "    print(\"No API key was found\")\n",
    "elif not api_key.startswith(\"sk-proj-\"):\n",
    "    print(\"An API key was found, but it doesn't start sk-proj-; please check you're using the right key\")\n",
    "elif api_key.strip() != api_key:\n",
    "    print(\"An API key was found, but it looks like it might have space or tab characters at the start or end - please remove them\")\n",
    "else:\n",
    "    print(\"API key found and looks good so far!\")\n"
   ]
  },
  {
   "cell_type": "code",
   "execution_count": null,
   "id": "02587104-7d16-40c6-86f0-e11b75f32ce9",
   "metadata": {},
   "outputs": [],
   "source": [
    "# Create an instance of the OpenAI Class\n",
    "openai = OpenAI()"
   ]
  },
  {
   "cell_type": "markdown",
   "id": "e68ff5f1-e8b2-46a7-8a12-66284a7f9934",
   "metadata": {},
   "source": [
    "## API Documentation\n",
    "\n",
    "The OpenAI API is used to generate the formal email. The API endpoint used is chat.completions.create, which takes in a model parameter and a list of messages. The model parameter is set to gpt-4o-mini, and the messages list contains the system and user prompts. The API returns a response object that contains the generated email."
   ]
  },
  {
   "cell_type": "code",
   "execution_count": null,
   "id": "116eeaa3-3789-49a1-979a-d05f195f7992",
   "metadata": {},
   "outputs": [],
   "source": [
    "# Step 1: Create your prompts\n",
    "system_prompt = \"You are an helpful assistant. From the content of an email, you can come up with a good subject line for the email and write a mail, using a formal language\"\n",
    "user_prompt = \"\"\"\n",
    "    Hi, I want to apply to the position of data scientist in your company.\n",
    "\"\"\"\n",
    "\n",
    "# Step 2: Make the messages list\n",
    "messages = [\n",
    "    {\"role\": \"system\", \"content\": system_prompt},\n",
    "    {\"role\": \"user\", \"content\": user_prompt }\n",
    "]\n",
    "\n",
    "# Step 3: Call OpenAI\n",
    "response = openai.chat.completions.create(model=\"gpt-4o-mini\",messages=messages)\n",
    "\n",
    "# Step 4: print the result\n",
    "print(response.choices[0].message.content)"
   ]
  },
  {
   "cell_type": "code",
   "execution_count": null,
   "id": "8bbd3527-57c8-40b0-a08b-a40ddf9dfcf4",
   "metadata": {},
   "outputs": [],
   "source": []
  }
 ],
 "metadata": {
  "kernelspec": {
   "display_name": "Python 3 (ipykernel)",
   "language": "python",
   "name": "python3"
  },
  "language_info": {
   "codemirror_mode": {
    "name": "ipython",
    "version": 3
   },
   "file_extension": ".py",
   "mimetype": "text/x-python",
   "name": "python",
   "nbconvert_exporter": "python",
   "pygments_lexer": "ipython3",
   "version": "3.11.11"
  }
 },
 "nbformat": 4,
 "nbformat_minor": 5
}
