{
 "cells": [
  {
   "cell_type": "markdown",
   "id": "22048048-ad11-4943-9654-8cfe45f50d70",
   "metadata": {},
   "source": [
    "# Web scraping to extract content from websites (Free)"
   ]
  },
  {
   "cell_type": "code",
   "execution_count": null,
   "id": "0e450dcc-11ac-4de8-a223-5c8de4d82618",
   "metadata": {},
   "outputs": [],
   "source": [
    "# imports\n",
    "import requests\n",
    "import ollama\n",
    "from bs4 import BeautifulSoup\n",
    "from IPython.display import Markdown, display"
   ]
  },
  {
   "cell_type": "markdown",
   "id": "994b29c5-c031-444b-a587-c31896a78de6",
   "metadata": {},
   "source": [
    "## Installation of Ollama\n",
    "\n",
    "Simply visit ollama.com and install\n",
    "\n",
    "Once complete, the ollama server should already be running locally.\n",
    "If you visit:\n",
    "http://localhost:11434/\n",
    "\n",
    "You should see the message Ollama is running.\n",
    "\n",
    "If not, bring up a new Terminal (Mac) or Powershell (Windows) and enter ollama serve\n",
    "And in another Terminal (Mac) or Powershell (Windows), enter ollama pull llama3.2\n",
    "Then try http://localhost:11434/ again.\n",
    "\n",
    "If Ollama is slow on your machine, try using llama3.2:1b as an alternative. Run ollama pull llama3.2:1b from a Terminal or Powershell, and change the code below from MODEL = \"llama3.2\" to MODEL = \"llama3.2:1b\""
   ]
  },
  {
   "cell_type": "code",
   "execution_count": null,
   "id": "8ece07e1-5e16-4e26-8bdd-0cf94acd7c6b",
   "metadata": {},
   "outputs": [],
   "source": [
    "# Creation of the class Website\n",
    "class Website:\n",
    "\n",
    "    def __init__(self, url):\n",
    "        self.url = url\n",
    "        response = requests.get(url, headers=HEADERS)\n",
    "        soup = BeautifulSoup(response.content, \"html.parser\")\n",
    "        self.title = soup.title.string if soup.title else \"No title found\"\n",
    "        for irrelevant in soup.body([\"body\", \"script\", \"img\", \"input\"]):\n",
    "            irrelevant.decompose()\n",
    "        self.text = soup.body.get_text(separator=\"\\n\", strip=True)"
   ]
  },
  {
   "cell_type": "code",
   "execution_count": null,
   "id": "b064a955-4c98-426f-b9b0-70f1d76cbc34",
   "metadata": {},
   "outputs": [],
   "source": [
    "# Define the system prompt for the chosen website\n",
    "def user_prompt_for(website):\n",
    "    user_prompt = f\"You are looking at a website title {website}\"\n",
    "    user_prompt += \"\\nThe contents of this website is as follows; \\\n",
    "    please provide a short summary of this website in markdown. \\\n",
    "    If it includes news or announcements, then summarize these too.\\n\\n\"\n",
    "    user_prompt += website.text\n",
    "    return user_prompt"
   ]
  },
  {
   "cell_type": "code",
   "execution_count": null,
   "id": "af83276b-d0ae-4f58-baff-3464f691240d",
   "metadata": {},
   "outputs": [],
   "source": [
    "# Define the roles\n",
    "def messages_for(website):\n",
    "    return [\n",
    "        {\"role\": \"system\", \"content\": \"You are an assistant that analyzes the contents of a website \\\n",
    "        and provides a short summary, ignoring text that might be navigation related. \\\n",
    "        Respond in markdown.\"},\n",
    "        {\"role\": \"user\", \"content\": user_prompt_for(website)}\n",
    "    ]"
   ]
  },
  {
   "cell_type": "code",
   "execution_count": null,
   "id": "4bdc9b06-c990-444c-92a2-f2f0cca5c8af",
   "metadata": {},
   "outputs": [],
   "source": [
    "# Call the ollama api and return the output\n",
    "def summarize(url):\n",
    "    website = Website(url)\n",
    "    response_llm = ollama.chat(model=\"llama3.2\", messages=messages_for(website))\n",
    "    return response_llm['message']['content']"
   ]
  },
  {
   "cell_type": "code",
   "execution_count": null,
   "id": "9393a555-9dd8-48fe-b843-2ab565787d39",
   "metadata": {},
   "outputs": [],
   "source": [
    "# Display the output better, in markdown \n",
    "def display_summary(url):\n",
    "    summary = summarize(url)\n",
    "    display(Markdown(summary))"
   ]
  },
  {
   "cell_type": "code",
   "execution_count": null,
   "id": "93fc324e-4d0f-4e8b-9e4d-317d2d3148ed",
   "metadata": {},
   "outputs": [],
   "source": [
    "display_summary(\"https://www.anthropic.com\")"
   ]
  },
  {
   "cell_type": "code",
   "execution_count": null,
   "id": "2d322945-c729-43a2-a4ae-41171d54bc87",
   "metadata": {},
   "outputs": [],
   "source": []
  }
 ],
 "metadata": {
  "kernelspec": {
   "display_name": "Python 3 (ipykernel)",
   "language": "python",
   "name": "python3"
  },
  "language_info": {
   "codemirror_mode": {
    "name": "ipython",
    "version": 3
   },
   "file_extension": ".py",
   "mimetype": "text/x-python",
   "name": "python",
   "nbconvert_exporter": "python",
   "pygments_lexer": "ipython3",
   "version": "3.11.11"
  }
 },
 "nbformat": 4,
 "nbformat_minor": 5
}
