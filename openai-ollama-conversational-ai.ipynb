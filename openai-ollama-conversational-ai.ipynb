{
 "cells": [
  {
   "cell_type": "markdown",
   "id": "fe12c203-e6a6-452c-a655-afb8a03a4ff5",
   "metadata": {},
   "source": [
    "# OpenAI and Ollama Conversational AI"
   ]
  },
  {
   "cell_type": "markdown",
   "id": "caa2d65e-7668-4fec-b861-754ccaee3a5d",
   "metadata": {},
   "source": [
    "## Overview\n",
    "This Jupyter notebook demonstrates an easy, flexible, dual-model conversational AI assistant that bridges the capabilities of two powerful language models: OpenAI's GPT-4o-mini and Ollama's Llama 3.2. Designed for everyone, this project serves as a practical template for exploring and comparing generative AI responses across different platforms.\n",
    "\n",
    "## Key Features\n",
    "\n",
    "- Dual Model Integration: Seamlessly interact with both cloud-based (OpenAI) and local (Ollama) language models\n",
    "- Multilingual Support: Generate responses in multiple languages\n",
    "- Markdown Rendering: Display AI-generated content with clean, readable formatting\n",
    "- Streaming Output: Experience real-time response generation with OpenAI's model\n",
    "- Customizable System Prompt: Easily adapt the AI's behavior and instructions\n",
    "\n",
    "## Getting Started\n",
    "### Prerequisites\n",
    "\n",
    "- Python 3.8+\n",
    "- OpenAI API Key\n",
    "- Ollama installed and configured\n",
    "- Required libraries: openai, ollama, python-dotenv, IPython\n",
    "\n",
    "### Configuration\n",
    "\n",
    "- Install necessary dependencies\n",
    "- Set up your .env file with your OpenAI API key\n",
    "- Ensure Ollama is running with the Llama 3.2 model"
   ]
  },
  {
   "cell_type": "code",
   "execution_count": null,
   "id": "c1070317-3ed9-4659-abe3-828943230e03",
   "metadata": {},
   "outputs": [],
   "source": [
    "# imports\n",
    "import os\n",
    "import ollama\n",
    "from openai import OpenAI\n",
    "from dotenv import load_dotenv\n",
    "from IPython.display import Markdown, display, update_display"
   ]
  },
  {
   "cell_type": "code",
   "execution_count": null,
   "id": "4a456906-915a-4bfd-bb9d-57e505c5093f",
   "metadata": {},
   "outputs": [],
   "source": [
    "# constants\n",
    "MODEL_GPT = 'gpt-4o-mini'\n",
    "MODEL_LLAMA = 'llama3.2'"
   ]
  },
  {
   "cell_type": "code",
   "execution_count": null,
   "id": "a8d7923c-5f28-4c30-8556-342d7c8497c1",
   "metadata": {},
   "outputs": [],
   "source": [
    "# set up environment\n",
    "load_dotenv(override=True)\n",
    "api_key = os.getenv('OPENAI_API_KEY')\n",
    "\n",
    "if api_key and api_key.startswith('sk-proj-') and len(api_key)>10:\n",
    "    print(\"API key looks good so far\")\n",
    "else:\n",
    "    print(\"There might be a problem with your API key\")\n",
    "openai = OpenAI()"
   ]
  },
  {
   "cell_type": "code",
   "execution_count": null,
   "id": "3f0d0137-52b0-47a8-81a8-11a90a010798",
   "metadata": {},
   "outputs": [],
   "source": [
    "# here is the system prompt, you can personalize it depending on your use cases\n",
    "system_prompt = \"\"\"\n",
    "You are a helpful assistant. Your role is to give detailed answers to any questions, making them easily understandable to anyone,\\\n",
    "even if they are not professionals in the field. You have a natural ability to render the most complex topics easily, providing examples and clear outputs.\\\n",
    "Your outputs are all in markdown format.\n",
    "\"\"\"\n",
    "system_prompt += \"Whenever you mention a website or online resource, you'll include the link related to it directly after\""
   ]
  },
  {
   "cell_type": "code",
   "execution_count": null,
   "id": "c6f1b2ec-4d55-4bde-88e9-e3cfc1b02805",
   "metadata": {},
   "outputs": [],
   "source": [
    "# Get gpt-4o-mini to answer, with streaming\n",
    "def hello_gpt(user_prompt, language=\"english\"):\n",
    "    stream = openai.chat.completions.create(\n",
    "        model=MODEL_GPT,\n",
    "        messages=[\n",
    "            {\"role\": \"system\", \"content\": system_prompt},\n",
    "            {\"role\": \"user\", \"content\": f\"You will reply to the {user_prompt}, in {language}\"}\n",
    "        ],\n",
    "        stream=True\n",
    "    )\n",
    "    \n",
    "    response = \"\"\n",
    "    display_handle = display(Markdown(\"\"), display_id=True)\n",
    "    for chunk in stream:\n",
    "        response += chunk.choices[0].delta.content or ''\n",
    "        response = response.replace(\"```\",\"\").replace(\"markdown\", \"\")\n",
    "        update_display(Markdown(response), display_id=display_handle.display_id)"
   ]
  },
  {
   "cell_type": "code",
   "execution_count": null,
   "id": "9ddf9307-dd8f-4950-ad89-0f02db47273d",
   "metadata": {},
   "outputs": [],
   "source": [
    "# Insert your prompt for GPT 4o-mini here and the desired language if not english\n",
    "hello_gpt(\"What is the castle of Versailles\")"
   ]
  },
  {
   "cell_type": "code",
   "execution_count": null,
   "id": "8f7c8ea8-4082-4ad0-8751-3301adcf6538",
   "metadata": {},
   "outputs": [],
   "source": [
    "# Get Llama 3.2 to answer\n",
    "def hello_llama(user_prompt, language=\"english\"):\n",
    "    response = ollama.chat(model=\"llama3.2\", messages=[\n",
    "        {\"role\": \"system\", \"content\": system_prompt},\n",
    "        {\"role\": \"user\", \"content\": f\"You will reply to the {user_prompt}, in {language}\"}\n",
    "    ])\n",
    "    return display(Markdown(response['message']['content']))"
   ]
  },
  {
   "cell_type": "code",
   "execution_count": null,
   "id": "02364c5f-69fb-419a-a619-2185ca1af91b",
   "metadata": {},
   "outputs": [],
   "source": [
    "# Insert your prompt for llama3.2 here and the desired language if not english\n",
    "hello_llama(\"What is the fibonacci math problem\")"
   ]
  },
  {
   "cell_type": "code",
   "execution_count": null,
   "id": "87d1c82b-f492-42f3-8226-018155144685",
   "metadata": {},
   "outputs": [],
   "source": []
  }
 ],
 "metadata": {
  "kernelspec": {
   "display_name": "Python 3 (ipykernel)",
   "language": "python",
   "name": "python3"
  },
  "language_info": {
   "codemirror_mode": {
    "name": "ipython",
    "version": 3
   },
   "file_extension": ".py",
   "mimetype": "text/x-python",
   "name": "python",
   "nbconvert_exporter": "python",
   "pygments_lexer": "ipython3",
   "version": "3.11.11"
  }
 },
 "nbformat": 4,
 "nbformat_minor": 5
}
